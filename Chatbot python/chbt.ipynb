{
 "cells": [
  {
   "cell_type": "code",
   "execution_count": 1,
   "metadata": {},
   "outputs": [
    {
     "name": "stdout",
     "output_type": "stream",
     "text": [
      "WARNING:tensorflow:From c:\\users\\test\\appdata\\local\\programs\\python\\python38\\lib\\site-packages\\tensorflow\\python\\compat\\v2_compat.py:107: disable_resource_variables (from tensorflow.python.ops.variable_scope) is deprecated and will be removed in a future version.\n",
      "Instructions for updating:\n",
      "non-resource variables are not supported in the long term\n",
      "curses is not supported on this machine (please install/reinstall curses for an optimal experience)\n"
     ]
    },
    {
     "name": "stderr",
     "output_type": "stream",
     "text": [
      "[nltk_data] Downloading package punkt to\n",
      "[nltk_data]     C:\\Users\\test\\AppData\\Roaming\\nltk_data...\n",
      "[nltk_data]   Package punkt is already up-to-date!\n"
     ]
    }
   ],
   "source": [
    "import nltk\n",
    "import tensorflow as tf\n",
    "nltk.download('punkt')\n",
    "from nltk.stem.lancaster import LancasterStemmer\n",
    "\n",
    "stemmer = LancasterStemmer()\n",
    "\n",
    "import numpy\n",
    "from tensorflow.python.framework import ops\n",
    "import tflearn\n",
    "import random\n",
    "import json\n",
    "import pickle"
   ]
  },
  {
   "cell_type": "code",
   "execution_count": 2,
   "metadata": {},
   "outputs": [],
   "source": [
    "with open(\"intents.json\") as file:\n",
    "    data = json.load(file)\n",
    "try:\n",
    "    with open(\"data.pickle\", \"rb\") as f:\n",
    "        words, labels, training, output = pickle.load(f)\n",
    "except:\n",
    "    docs_t = []\n",
    "    docs_p = []\n",
    "    words = []\n",
    "    labels = []\n",
    "    for intent in data[\"intents\"]:\n",
    "        for pattern in intent[\"patterns\"]:\n",
    "            ptn = nltk.word_tokenize(pattern)\n",
    "            words.extend(ptn)\n",
    "            docs_p.append(ptn)\n",
    "            docs_t.append(intent[\"tag\"])\n",
    "        if intent not in labels:\n",
    "            labels.append(intent[\"tag\"])\n",
    "    words = [stemmer.stem(w.lower()) for w in words if w != \"?\" and \"!\" and \".\" and \",\" and \":\"]\n",
    "    words = sorted(list(set(words)))\n",
    "    labels = sorted(labels)\n",
    "    training = []\n",
    "    output = []\n",
    "    out_empty = [0 for _ in range(len(labels))]\n",
    "    for x, doc in enumerate(docs_p):\n",
    "        bag = []\n",
    "        ptn = [stemmer.stem(w) for w in doc]\n",
    "        for w in words:\n",
    "            if w in ptn:\n",
    "                bag.append(1)\n",
    "            else:\n",
    "                bag.append(0)\n",
    "        out_row = out_empty[:]\n",
    "        out_row[labels.index(docs_t[x])] = 1\n",
    "        training.append(bag)\n",
    "        output.append(out_row)\n",
    "    training = numpy.array(training)\n",
    "    output = numpy.array(output)\n",
    "    saved_data = data\n",
    "    with open(\"data.pickle\", \"wb\") as f:\n",
    "        pickle.dump((words, labels, training, output,saved_data), f)\n",
    "\n",
    "ops.reset_default_graph()"
   ]
  },
  {
   "cell_type": "code",
   "execution_count": 3,
   "metadata": {},
   "outputs": [
    {
     "name": "stdout",
     "output_type": "stream",
     "text": [
      "Training Step: 11999  | total loss: \u001b[1m\u001b[32m0.00010\u001b[0m\u001b[0m | time: 0.056s\n",
      "| Adam | epoch: 1200 | loss: 0.00010 - acc: 1.0000 -- iter: 72/73\n",
      "Training Step: 12000  | total loss: \u001b[1m\u001b[32m0.00009\u001b[0m\u001b[0m | time: 0.062s\n",
      "| Adam | epoch: 1200 | loss: 0.00009 - acc: 1.0000 -- iter: 73/73\n",
      "--\n",
      "INFO:tensorflow:C:\\Users\\test\\OneDrive\\Desktop\\Chatbot\\Chatbot 2\\.model.tflearn is not in all_model_checkpoint_paths. Manually adding it.\n"
     ]
    }
   ],
   "source": [
    "net = tflearn.input_data(shape=[None, len(training[0])])\n",
    "net = tflearn.fully_connected(net, 8)\n",
    "net = tflearn.fully_connected(net, 8)\n",
    "net = tflearn.fully_connected(net, len(output[0]), activation=\"softmax\")\n",
    "net = tflearn.regression(net)\n",
    "\n",
    "model = tflearn.DNN(net)\n",
    "\n",
    "model.fit(training,output,n_epoch=1200,batch_size=8,show_metric=True)\n",
    "model.save(\".model.tflearn\")\n"
   ]
  },
  {
   "cell_type": "code",
   "execution_count": 4,
   "metadata": {},
   "outputs": [
    {
     "name": "stdout",
     "output_type": "stream",
     "text": [
      "Start Talking !\n",
      "You :hi\n",
      "Hi there, how can I help?\n",
      "You :what's your name\n",
      "I'm Laeknir!\n",
      "You :coronavirus\n",
      "I didn't get it ,ask again\n",
      "You :whats covid\n",
      "Coronavirus disease (COVID-19) is an infectious disease caused by the SARS-CoV-2 virus.\n",
      "Most people who fall sick with COVID-19 will experience mild to moderate symptoms and recover without special treatment. However, some will become seriously ill and require medical attention.\n",
      "You :quit\n"
     ]
    }
   ],
   "source": [
    "def BagOfWords(s, words):\n",
    "    bag = [0 for _ in range(len(words))]\n",
    "\n",
    "    swords = nltk.word_tokenize(s)\n",
    "    swords = [stemmer.stem(word.lower()) for word in swords]\n",
    "\n",
    "    for wrd in swords:\n",
    "        for i, w in enumerate(words):\n",
    "            if w == wrd:\n",
    "                bag[i] = 1\n",
    "    return numpy.array(bag)\n",
    "\n",
    "\n",
    "def Chat():\n",
    "    print(\"Start Talking !\")\n",
    "    while True:\n",
    "        inp = input(\"You :\")\n",
    "        if inp.lower() == \"quit\":\n",
    "            break\n",
    "        results = model.predict([BagOfWords(inp, words)])[0]\n",
    "        rsIndex = numpy.argmax(results)\n",
    "        tag = labels[rsIndex]\n",
    "\n",
    "        if results[rsIndex] > 0.7:\n",
    "            for tg in data[\"intents\"]:\n",
    "                if tg['tag'] == tag:\n",
    "                    responses = tg['responses']\n",
    "            print(random.choice(responses))\n",
    "        else:\n",
    "            print(\"I didn't get it ,ask again\")\n",
    "\n",
    "\n",
    "Chat()"
   ]
  },
  {
   "cell_type": "code",
   "execution_count": null,
   "metadata": {},
   "outputs": [],
   "source": []
  }
 ],
 "metadata": {
  "interpreter": {
   "hash": "205595cd1daa4a192140885c104c4ea416cf31c31e44558713cd0df72bb67f19"
  },
  "kernelspec": {
   "display_name": "Python 3 (ipykernel)",
   "language": "python",
   "name": "python3"
  },
  "language_info": {
   "codemirror_mode": {
    "name": "ipython",
    "version": 3
   },
   "file_extension": ".py",
   "mimetype": "text/x-python",
   "name": "python",
   "nbconvert_exporter": "python",
   "pygments_lexer": "ipython3",
   "version": "3.8.0"
  }
 },
 "nbformat": 4,
 "nbformat_minor": 2
}
